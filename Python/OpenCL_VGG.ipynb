{
  "nbformat": 4,
  "nbformat_minor": 0,
  "metadata": {
    "colab": {
      "name": "OpenCL_VGG",
      "provenance": [],
      "collapsed_sections": [],
      "toc_visible": true,
      "include_colab_link": true
    },
    "kernelspec": {
      "name": "python3",
      "display_name": "Python 3"
    },
    "accelerator": "GPU"
  },
  "cells": [
    {
      "cell_type": "markdown",
      "metadata": {
        "id": "view-in-github",
        "colab_type": "text"
      },
      "source": [
        "<a href=\"https://colab.research.google.com/github/nvanandsah/OpenCL_VGG16/blob/master/Python/OpenCL_VGG.ipynb\" target=\"_parent\"><img src=\"https://colab.research.google.com/assets/colab-badge.svg\" alt=\"Open In Colab\"/></a>"
      ]
    },
    {
      "cell_type": "code",
      "metadata": {
        "id": "B3bd9VgPEEwy",
        "colab_type": "code",
        "colab": {
          "base_uri": "https://localhost:8080/",
          "height": 122
        },
        "outputId": "4e58ec4e-e6dd-4e0a-e0de-23310ea23676"
      },
      "source": [
        "from google.colab import drive\n",
        "drive.mount('/content/drive')"
      ],
      "execution_count": null,
      "outputs": [
        {
          "output_type": "stream",
          "text": [
            "Go to this URL in a browser: https://accounts.google.com/o/oauth2/auth?client_id=947318989803-6bn6qk8qdgf4n4g3pfee6491hc0brc4i.apps.googleusercontent.com&redirect_uri=urn%3aietf%3awg%3aoauth%3a2.0%3aoob&response_type=code&scope=email%20https%3a%2f%2fwww.googleapis.com%2fauth%2fdocs.test%20https%3a%2f%2fwww.googleapis.com%2fauth%2fdrive%20https%3a%2f%2fwww.googleapis.com%2fauth%2fdrive.photos.readonly%20https%3a%2f%2fwww.googleapis.com%2fauth%2fpeopleapi.readonly\n",
            "\n",
            "Enter your authorization code:\n",
            "··········\n",
            "Mounted at /content/drive\n"
          ],
          "name": "stdout"
        }
      ]
    },
    {
      "cell_type": "markdown",
      "metadata": {
        "id": "yECST1CK3XE0",
        "colab_type": "text"
      },
      "source": [
        "# New Section"
      ]
    },
    {
      "cell_type": "code",
      "metadata": {
        "id": "nKx7hbtEFphU",
        "colab_type": "code",
        "colab": {
          "base_uri": "https://localhost:8080/",
          "height": 34
        },
        "outputId": "625fece8-23e1-4e3f-8b46-f3448395605c"
      },
      "source": [
        "import random\n",
        "import numpy as np\n",
        "import matplotlib.pyplot as plt\n",
        "import tensorflow as tf\n",
        "\n",
        "import keras \n",
        "from keras.utils import to_categorical\n",
        "from keras.models import Model, Sequential\n",
        "from keras.datasets import mnist\n",
        "from keras.layers import Dense, Embedding, SimpleRNN, Input, Conv2D, Flatten, MaxPooling2D, BatchNormalization\n",
        "from keras.callbacks import ModelCheckpoint\n",
        "from keras.preprocessing.image import load_img, img_to_array\n",
        "\n",
        "from keras.applications.vgg16 import VGG16, preprocess_input, decode_predictions\n",
        "\n",
        "from __future__ import print_function\n",
        "\n",
        "from keras.preprocessing.image import ImageDataGenerator\n",
        "from keras.datasets import cifar10\n",
        "from keras.models import Sequential\n",
        "from keras import optimizers\n",
        "\n",
        "from keras.layers.core import Lambda\n",
        "from keras import backend as K\n",
        "from keras import regularizers\n",
        "\n",
        "from keras.applications.vgg19 import VGG19"
      ],
      "execution_count": null,
      "outputs": [
        {
          "output_type": "stream",
          "text": [
            "Using TensorFlow backend.\n"
          ],
          "name": "stderr"
        }
      ]
    },
    {
      "cell_type": "code",
      "metadata": {
        "id": "Nbifl7QQEkfP",
        "colab_type": "code",
        "colab": {
          "base_uri": "https://localhost:8080/",
          "height": 68
        },
        "outputId": "1d62ea72-3b22-4eba-a920-d27a9d704a69"
      },
      "source": [
        "# load the model\n",
        "model = VGG16()\n",
        "# load an image from file\n",
        "image = load_img('/content/mug.jpg', target_size=(224, 224))\n",
        "# convert the image pixels to a numpy array\n",
        "image = img_to_array(image)\n",
        "# reshape data for the model\n",
        "image = image.reshape((1, image.shape[0], image.shape[1], image.shape[2]))\n",
        "# prepare the image for the VGG model\n",
        "image = preprocess_input(image)\n",
        "# predict the probability across all output classes\n",
        "yhat = model.predict(image)\n",
        "# convert the probabilities to class labels\n",
        "label = decode_predictions(yhat)\n",
        "# retrieve the most likely result, e.g. highest probability\n",
        "label = label[0][0]\n",
        "# print the classification\n",
        "print('%s (%.2f%%)' % (label[1], label[2]*100))"
      ],
      "execution_count": null,
      "outputs": [
        {
          "output_type": "stream",
          "text": [
            "Downloading data from https://storage.googleapis.com/download.tensorflow.org/data/imagenet_class_index.json\n",
            "40960/35363 [==================================] - 0s 0us/step\n",
            "espresso (57.41%)\n"
          ],
          "name": "stdout"
        }
      ]
    },
    {
      "cell_type": "code",
      "metadata": {
        "id": "rTlZ2BwGEzC3",
        "colab_type": "code",
        "colab": {
          "base_uri": "https://localhost:8080/",
          "height": 989
        },
        "outputId": "c96a6b81-c921-4785-b155-34e5ad595cae"
      },
      "source": [
        "print(model.summary())\n",
        "network_layers = [layer.name for layer in model.layers]\n",
        "print(network_layers)"
      ],
      "execution_count": null,
      "outputs": [
        {
          "output_type": "stream",
          "text": [
            "Model: \"vgg16\"\n",
            "_________________________________________________________________\n",
            "Layer (type)                 Output Shape              Param #   \n",
            "=================================================================\n",
            "input_2 (InputLayer)         (None, 224, 224, 3)       0         \n",
            "_________________________________________________________________\n",
            "block1_conv1 (Conv2D)        (None, 224, 224, 64)      1792      \n",
            "_________________________________________________________________\n",
            "block1_conv2 (Conv2D)        (None, 224, 224, 64)      36928     \n",
            "_________________________________________________________________\n",
            "block1_pool (MaxPooling2D)   (None, 112, 112, 64)      0         \n",
            "_________________________________________________________________\n",
            "block2_conv1 (Conv2D)        (None, 112, 112, 128)     73856     \n",
            "_________________________________________________________________\n",
            "block2_conv2 (Conv2D)        (None, 112, 112, 128)     147584    \n",
            "_________________________________________________________________\n",
            "block2_pool (MaxPooling2D)   (None, 56, 56, 128)       0         \n",
            "_________________________________________________________________\n",
            "block3_conv1 (Conv2D)        (None, 56, 56, 256)       295168    \n",
            "_________________________________________________________________\n",
            "block3_conv2 (Conv2D)        (None, 56, 56, 256)       590080    \n",
            "_________________________________________________________________\n",
            "block3_conv3 (Conv2D)        (None, 56, 56, 256)       590080    \n",
            "_________________________________________________________________\n",
            "block3_pool (MaxPooling2D)   (None, 28, 28, 256)       0         \n",
            "_________________________________________________________________\n",
            "block4_conv1 (Conv2D)        (None, 28, 28, 512)       1180160   \n",
            "_________________________________________________________________\n",
            "block4_conv2 (Conv2D)        (None, 28, 28, 512)       2359808   \n",
            "_________________________________________________________________\n",
            "block4_conv3 (Conv2D)        (None, 28, 28, 512)       2359808   \n",
            "_________________________________________________________________\n",
            "block4_pool (MaxPooling2D)   (None, 14, 14, 512)       0         \n",
            "_________________________________________________________________\n",
            "block5_conv1 (Conv2D)        (None, 14, 14, 512)       2359808   \n",
            "_________________________________________________________________\n",
            "block5_conv2 (Conv2D)        (None, 14, 14, 512)       2359808   \n",
            "_________________________________________________________________\n",
            "block5_conv3 (Conv2D)        (None, 14, 14, 512)       2359808   \n",
            "_________________________________________________________________\n",
            "block5_pool (MaxPooling2D)   (None, 7, 7, 512)         0         \n",
            "_________________________________________________________________\n",
            "flatten (Flatten)            (None, 25088)             0         \n",
            "_________________________________________________________________\n",
            "fc1 (Dense)                  (None, 4096)              102764544 \n",
            "_________________________________________________________________\n",
            "fc2 (Dense)                  (None, 4096)              16781312  \n",
            "_________________________________________________________________\n",
            "predictions (Dense)          (None, 1000)              4097000   \n",
            "=================================================================\n",
            "Total params: 138,357,544\n",
            "Trainable params: 138,357,544\n",
            "Non-trainable params: 0\n",
            "_________________________________________________________________\n",
            "None\n",
            "['input_2', 'block1_conv1', 'block1_conv2', 'block1_pool', 'block2_conv1', 'block2_conv2', 'block2_pool', 'block3_conv1', 'block3_conv2', 'block3_conv3', 'block3_pool', 'block4_conv1', 'block4_conv2', 'block4_conv3', 'block4_pool', 'block5_conv1', 'block5_conv2', 'block5_conv3', 'block5_pool', 'flatten', 'fc1', 'fc2', 'predictions']\n"
          ],
          "name": "stdout"
        }
      ]
    },
    {
      "cell_type": "code",
      "metadata": {
        "id": "8k0RZzthFnuD",
        "colab_type": "code",
        "colab": {
          "base_uri": "https://localhost:8080/",
          "height": 102
        },
        "outputId": "25ef32ad-d953-4095-b4f4-cbfa5f3a9f25"
      },
      "source": [
        "feature_model = Model(\n",
        "    model.inputs,\n",
        "    [layer.output for layer in model.layers]\n",
        ")\n",
        "out = feature_model.predict(image)\n",
        "\n",
        "decode_predictions(out[-1])"
      ],
      "execution_count": null,
      "outputs": [
        {
          "output_type": "execute_result",
          "data": {
            "text/plain": [
              "[[('n07920052', 'espresso', 0.57408124),\n",
              "  ('n03063599', 'coffee_mug', 0.24631496),\n",
              "  ('n07930864', 'cup', 0.11509778),\n",
              "  ('n03297495', 'espresso_maker', 0.010166128),\n",
              "  ('n04398044', 'teapot', 0.0067943865)]]"
            ]
          },
          "metadata": {
            "tags": []
          },
          "execution_count": 8
        }
      ]
    },
    {
      "cell_type": "code",
      "metadata": {
        "id": "vwLuLkHJHZ2G",
        "colab_type": "code",
        "colab": {
          "base_uri": "https://localhost:8080/",
          "height": 799
        },
        "outputId": "72fe11e0-e2d7-4df5-ac69-8f48130d03c4"
      },
      "source": [
        "out_dict = {}\n",
        "for i in range(len(out)):\n",
        "  out_dict[network_layers[i]] = out[i]\n",
        "\n",
        "\n",
        "for key in out_dict.keys():\n",
        "  print(key,out_dict[key].shape)\n",
        "\n",
        "for index, layer in enumerate(model.layers):\n",
        "  #if(isinstance(layer,Conv2D) or isinstance(layer,Dense) or isinstance(layer,MaxPooling2D) or isinstance(layer,BatchNormalization)):\n",
        "  print(index, (layer.name))"
      ],
      "execution_count": null,
      "outputs": [
        {
          "output_type": "stream",
          "text": [
            "input_2 (1, 224, 224, 3)\n",
            "block1_conv1 (1, 224, 224, 64)\n",
            "block1_conv2 (1, 224, 224, 64)\n",
            "block1_pool (1, 112, 112, 64)\n",
            "block2_conv1 (1, 112, 112, 128)\n",
            "block2_conv2 (1, 112, 112, 128)\n",
            "block2_pool (1, 56, 56, 128)\n",
            "block3_conv1 (1, 56, 56, 256)\n",
            "block3_conv2 (1, 56, 56, 256)\n",
            "block3_conv3 (1, 56, 56, 256)\n",
            "block3_pool (1, 28, 28, 256)\n",
            "block4_conv1 (1, 28, 28, 512)\n",
            "block4_conv2 (1, 28, 28, 512)\n",
            "block4_conv3 (1, 28, 28, 512)\n",
            "block4_pool (1, 14, 14, 512)\n",
            "block5_conv1 (1, 14, 14, 512)\n",
            "block5_conv2 (1, 14, 14, 512)\n",
            "block5_conv3 (1, 14, 14, 512)\n",
            "block5_pool (1, 7, 7, 512)\n",
            "flatten (1, 25088)\n",
            "fc1 (1, 4096)\n",
            "fc2 (1, 4096)\n",
            "predictions (1, 1000)\n",
            "0 input_2\n",
            "1 block1_conv1\n",
            "2 block1_conv2\n",
            "3 block1_pool\n",
            "4 block2_conv1\n",
            "5 block2_conv2\n",
            "6 block2_pool\n",
            "7 block3_conv1\n",
            "8 block3_conv2\n",
            "9 block3_conv3\n",
            "10 block3_pool\n",
            "11 block4_conv1\n",
            "12 block4_conv2\n",
            "13 block4_conv3\n",
            "14 block4_pool\n",
            "15 block5_conv1\n",
            "16 block5_conv2\n",
            "17 block5_conv3\n",
            "18 block5_pool\n",
            "19 flatten\n",
            "20 fc1\n",
            "21 fc2\n",
            "22 predictions\n"
          ],
          "name": "stdout"
        }
      ]
    },
    {
      "cell_type": "code",
      "metadata": {
        "id": "zi3J0r7rmmAc",
        "colab_type": "code",
        "colab": {
          "base_uri": "https://localhost:8080/",
          "height": 544
        },
        "outputId": "50df6f92-740d-4920-b973-856350e58cf2"
      },
      "source": [
        "file_location = \"drive/My Drive/OpenCL/VGGweights/\"\n",
        "\n",
        "for index, layer in enumerate(model.layers):\n",
        "  if(isinstance(layer,Conv2D)):\n",
        "    print(index, layer.name)\n",
        "    #fileName = file_location + layer.name + \".txt\"\n",
        "    fileName = file_location + str(index) + \"Conv2d\" + \".txt\"\n",
        "    fileHandler = open(fileName, \"w\")\n",
        "    fileHandler.write(model.layers[index].name)\n",
        "    fileHandler.write(\"\\n\")\n",
        "    kernelWidth = model.layers[index].get_weights()[0].shape[0]\n",
        "    kernelHeight = model.layers[index].get_weights()[0].shape[1]\n",
        "    kernelDepth = model.layers[index].get_weights()[0].shape[2]\n",
        "    numChannels = model.layers[index].get_weights()[0].shape[3]\n",
        "    # Write kernel details\n",
        "    fileHandler.write(str(kernelWidth) + \" \" + str(kernelHeight) + \" \" + str(kernelDepth) + \" \" + str(numChannels) + \"\\n\")\n",
        "    # Store weights\n",
        "    for channels in range(0, numChannels):\n",
        "      for width in range(kernelWidth):\n",
        "        for height in range(kernelHeight):\n",
        "          for depth in range(kernelDepth):\n",
        "            fileHandler.write(str(model.layers[index].get_weights()[0][width, height, depth, channels]) + \" \")\n",
        "    fileHandler.write(\"\\n\")\n",
        "    # Store biases\n",
        "    for channels in range(0, numChannels):\n",
        "      fileHandler.write(str(model.layers[index].get_weights()[1][channels]) + \" \");\n",
        "    fileHandler.close()"
      ],
      "execution_count": null,
      "outputs": [
        {
          "output_type": "stream",
          "text": [
            "0 input_1\n",
            "1 block1_conv1\n",
            "2 block1_conv2\n",
            "3 block1_pool\n",
            "4 block2_conv1\n",
            "5 block2_conv2\n",
            "6 block2_pool\n",
            "7 block3_conv1\n",
            "8 block3_conv2\n",
            "9 block3_conv3\n",
            "10 block3_pool\n",
            "11 block4_conv1\n",
            "12 block4_conv2\n",
            "13 block4_conv3\n",
            "14 block4_pool\n",
            "15 block5_conv1\n",
            "16 block5_conv2\n",
            "17 block5_conv3\n",
            "18 block5_pool\n",
            "19 flatten\n",
            "20 fc1\n",
            "21 fc2\n",
            "22 predictions\n",
            "1 block1_conv1\n",
            "2 block1_conv2\n",
            "4 block2_conv1\n",
            "5 block2_conv2\n",
            "7 block3_conv1\n",
            "8 block3_conv2\n",
            "9 block3_conv3\n",
            "11 block4_conv1\n"
          ],
          "name": "stdout"
        }
      ]
    },
    {
      "cell_type": "code",
      "metadata": {
        "id": "x0hSO0fFnMdX",
        "colab_type": "code",
        "colab": {}
      },
      "source": [
        ""
      ],
      "execution_count": null,
      "outputs": []
    }
  ]
}